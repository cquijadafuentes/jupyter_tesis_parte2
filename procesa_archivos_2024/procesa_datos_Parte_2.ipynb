{
 "cells": [
  {
   "cell_type": "code",
   "execution_count": 21,
   "id": "158a1c2c-701c-4feb-8ba4-dc797ffd33b1",
   "metadata": {},
   "outputs": [],
   "source": [
    "# Importaciones\n",
    "import math\n",
    "import numpy as np\n",
    "import pandas as pd\n",
    "import matplotlib.pyplot as plt\n",
    "import seaborn as sns\n",
    "import random\n",
    "from geopy import distance"
   ]
  },
  {
   "cell_type": "code",
   "execution_count": 53,
   "id": "4401331c-7313-4cd0-89da-f02b91ff42b7",
   "metadata": {
    "scrolled": true
   },
   "outputs": [
    {
     "name": "stdout",
     "output_type": "stream",
     "text": [
      "num_sensores: 240\n",
      "num_fechas: 35136\n",
      "35136 35136\n",
      "Error! 239 7015\n"
     ]
    },
    {
     "ename": "ValueError",
     "evalue": "could not broadcast input array from shape (0,) into shape (35136,)",
     "output_type": "error",
     "traceback": [
      "\u001b[0;31m---------------------------------------------------------------------------\u001b[0m",
      "\u001b[0;31mValueError\u001b[0m                                Traceback (most recent call last)",
      "Cell \u001b[0;32mIn[53], line 51\u001b[0m\n\u001b[1;32m     49\u001b[0m \u001b[38;5;28;01mif\u001b[39;00m \u001b[38;5;28mlen\u001b[39m(ll) \u001b[38;5;241m!=\u001b[39m numFechas:\n\u001b[1;32m     50\u001b[0m     \u001b[38;5;28mprint\u001b[39m(\u001b[38;5;124m\"\u001b[39m\u001b[38;5;124mError!\u001b[39m\u001b[38;5;124m\"\u001b[39m, i, lista_Sensores[i])\n\u001b[0;32m---> 51\u001b[0m \u001b[43mgrillaVelocidad\u001b[49m\u001b[43m[\u001b[49m\u001b[43mi\u001b[49m\u001b[43m]\u001b[49m \u001b[38;5;241m=\u001b[39m ll\n",
      "\u001b[0;31mValueError\u001b[0m: could not broadcast input array from shape (0,) into shape (35136,)"
     ]
    }
   ],
   "source": [
    "# Importando datos desde el archivo\n",
    "nombrearchivo = \"m30_2024_data_python.txt\"\n",
    "datafile = open(nombrearchivo ,\"r\")\n",
    "\n",
    "# Cantidad de sensores\n",
    "line = datafile.readline()\n",
    "numSensores = int(line)\n",
    "# IDs de los sensores\n",
    "line = datafile.readline()\n",
    "lista_Sensores = list(map(int, line.split()))\n",
    "# Codigos de los sensores\n",
    "line = datafile.readline()\n",
    "lista_Codigos = list(map(str, line.split()))\n",
    "\n",
    "# Cantidad de Fechas\n",
    "line = datafile.readline()\n",
    "numFechas = int(line)\n",
    "\n",
    "print(\"num_sensores:\", numSensores)\n",
    "print(\"num_fechas:\", numFechas)\n",
    "line = datafile.readline()\n",
    "ll = list(map(int, line.split()))\n",
    "print(len(ll), numFechas)\n",
    "\n",
    "# Grilla de datos\n",
    "grillaIntensidad = np.zeros((numSensores, numFechas))\n",
    "grillaOcupacion = np.zeros((numSensores, numFechas))\n",
    "grillaCarga = np.zeros((numSensores, numFechas))\n",
    "grillaVelocidad = np.zeros((numSensores, numFechas))\n",
    "\n",
    "for i in range(numSensores):\n",
    "    line = datafile.readline()\n",
    "    ll = list(map(int, line.split()))\n",
    "    if len(ll) != numFechas:\n",
    "        print(\"Error!\", i, lista_Sensores[i])\n",
    "    grillaIntensidad[i] = ll\n",
    "    line = datafile.readline()\n",
    "    ll = list(map(int, line.split()))\n",
    "    if len(ll) != numFechas:\n",
    "        print(\"Error!\", i, lista_Sensores[i])\n",
    "    grillaOcupacion[i] = ll\n",
    "    line = datafile.readline()\n",
    "    ll = list(map(int, line.split()))\n",
    "    if len(ll) != numFechas:\n",
    "        print(\"Error!\", i, lista_Sensores[i])\n",
    "    grillaCarga[i] = ll\n",
    "    line = datafile.readline()\n",
    "    ll = list(map(int, line.split()))\n",
    "    if len(ll) != numFechas:\n",
    "        print(\"Error!\", i, lista_Sensores[i])\n",
    "    grillaVelocidad[i] = ll"
   ]
  },
  {
   "cell_type": "code",
   "execution_count": 51,
   "id": "fc228539-57d9-421d-8f9c-ba4945729eed",
   "metadata": {},
   "outputs": [
    {
     "name": "stdout",
     "output_type": "stream",
     "text": [
      "[6807, 6808, 6933, 7129, 7015]\n"
     ]
    }
   ],
   "source": [
    "print(lista_Sensores[numSensores-5:])"
   ]
  },
  {
   "cell_type": "code",
   "execution_count": 54,
   "id": "c3d0a591-7490-417f-8964-91d9240b43ff",
   "metadata": {},
   "outputs": [
    {
     "name": "stdout",
     "output_type": "stream",
     "text": [
      "240\n"
     ]
    }
   ],
   "source": [
    "print(len(lista_Sensores))"
   ]
  },
  {
   "cell_type": "code",
   "execution_count": null,
   "id": "3de0a7b1-bc49-4912-be36-1ff896d6c87c",
   "metadata": {},
   "outputs": [],
   "source": []
  }
 ],
 "metadata": {
  "kernelspec": {
   "display_name": "Python 3 (ipykernel)",
   "language": "python",
   "name": "python3"
  },
  "language_info": {
   "codemirror_mode": {
    "name": "ipython",
    "version": 3
   },
   "file_extension": ".py",
   "mimetype": "text/x-python",
   "name": "python",
   "nbconvert_exporter": "python",
   "pygments_lexer": "ipython3",
   "version": "3.12.3"
  }
 },
 "nbformat": 4,
 "nbformat_minor": 5
}
