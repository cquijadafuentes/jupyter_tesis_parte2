{
 "cells": [
  {
   "cell_type": "code",
   "execution_count": 16,
   "id": "99f121ef-e04d-4fd6-93b9-61e5c628ec20",
   "metadata": {},
   "outputs": [
    {
     "name": "stdout",
     "output_type": "stream",
     "text": [
      "2024-01-01 00:00:00\n",
      "2024-01-01 00:15:00\n",
      "2024-01-01 00:30:00\n",
      "2024-01-01 00:45:00\n",
      "2024-01-01 01:00:00\n",
      "2024-01-01 00:00:00\n",
      "2024-12-31 23:45:00\n",
      "2024-12-31 23:30:00\n",
      "2024-12-31 23:15:00\n",
      "2024-12-31 23:00:00\n"
     ]
    }
   ],
   "source": [
    "# Prueba de generación de fechas\n",
    "# Ejemplo: 2024-01-01 00:00:00\n",
    "\n",
    "def stringDosChar(num):\n",
    "    s = str(num)\n",
    "    if num < 10:\n",
    "        s = \"0\" + str(num)\n",
    "    return s\n",
    "    \n",
    "pref = \"2024-\"\n",
    "dias_x_mes = [31,29,31,30,31,30,31,31,30,31,30,31]\n",
    "mins_x_hora = [\":00:00\", \":15:00\", \":30:00\", \":45:00\"]\n",
    "\n",
    "lista_Fechas = []\n",
    "\n",
    "for mes in range(1,13):\n",
    "    for d in range(1,dias_x_mes[mes-1]+1):\n",
    "        for h in range(24):\n",
    "            for m in mins_x_hora:\n",
    "                fecha = pref + stringDosChar(mes) + \"-\" + stringDosChar(d)\n",
    "                tiempo = stringDosChar(h) + m\n",
    "                ft = fecha + \" \" + tiempo\n",
    "                lista_Fechas.append(ft)\n",
    "\n",
    "for i in range(5):\n",
    "    print(lista_Fechas[i])\n",
    "for i in range(5):\n",
    "    print(lista_Fechas[-i])\n"
   ]
  },
  {
   "cell_type": "code",
   "execution_count": 17,
   "id": "d24b2fcd-6362-4638-915a-39bf511ea1ae",
   "metadata": {},
   "outputs": [
    {
     "name": "stdout",
     "output_type": "stream",
     "text": [
      "35136\n"
     ]
    }
   ],
   "source": [
    "print(len(lista_Fechas))\n"
   ]
  },
  {
   "cell_type": "code",
   "execution_count": 18,
   "id": "1090b32d-0dfa-461a-8f57-d2fbc23b2424",
   "metadata": {},
   "outputs": [
    {
     "name": "stdout",
     "output_type": "stream",
     "text": [
      "[3823, 6715, 3598, 3494, 6758, 6725, 1, 2, 43]\n"
     ]
    }
   ],
   "source": [
    "l1 = [3823, 6715, 3598, 3494, 6758, 6725]\n",
    "l2 = [1,2,43]\n",
    "l1 += l2\n",
    "print(l1)"
   ]
  },
  {
   "cell_type": "code",
   "execution_count": 21,
   "id": "dfeb3109-1836-401f-aa60-8814a668be58",
   "metadata": {},
   "outputs": [
    {
     "name": "stdout",
     "output_type": "stream",
     "text": [
      "[3823, 6715, 3598, 3494, 6758, 6725, 1, 2, 43]\n",
      "[3823, 6715, 3598, 3494, 6758, 6725, 1, 2, 43]\n"
     ]
    }
   ],
   "source": [
    "print(l1)\n",
    "for l in l1:\n",
    "    l = 0\n",
    "print(l1)"
   ]
  },
  {
   "cell_type": "code",
   "execution_count": null,
   "id": "bb7e96d3-8f95-48f9-8a29-0c35f531acb0",
   "metadata": {},
   "outputs": [],
   "source": []
  }
 ],
 "metadata": {
  "kernelspec": {
   "display_name": "Python 3 (ipykernel)",
   "language": "python",
   "name": "python3"
  },
  "language_info": {
   "codemirror_mode": {
    "name": "ipython",
    "version": 3
   },
   "file_extension": ".py",
   "mimetype": "text/x-python",
   "name": "python",
   "nbconvert_exporter": "python",
   "pygments_lexer": "ipython3",
   "version": "3.12.3"
  }
 },
 "nbformat": 4,
 "nbformat_minor": 5
}
