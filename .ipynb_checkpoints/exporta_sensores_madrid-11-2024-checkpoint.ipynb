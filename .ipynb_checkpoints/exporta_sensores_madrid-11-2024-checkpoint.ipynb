{
 "cells": [
  {
   "cell_type": "raw",
   "id": "6766f17c-0fce-4b3d-93a1-d303b54f42fd",
   "metadata": {},
   "source": [
    "Se exportan los datos que se han explorado en 'explora_sensores_madrid'"
   ]
  },
  {
   "cell_type": "code",
   "execution_count": 184,
   "id": "86cb5e1a-34c4-4d59-a4d0-2eadb3f7376b",
   "metadata": {},
   "outputs": [],
   "source": [
    "# IMPORTACIONES\n",
    "import math\n",
    "import numpy as np\n",
    "import pandas as pd\n",
    "import random\n",
    "from geopy import distance"
   ]
  },
  {
   "cell_type": "code",
   "execution_count": 185,
   "id": "e929191b-9239-4bc3-9752-5d3cd20768db",
   "metadata": {},
   "outputs": [],
   "source": [
    "# Constantes\n",
    "\n",
    "df_encabezados = [\"id\", \"fecha\", \"tipo_elem\", \"intensidad\", \"ocupacion\", \"carga\", \"vmed\", \"error\", \"periodo_integracion\"]\n",
    "atributos = [\"intensidad\", \"ocupacion\", \"carga\", \"vmed\"]"
   ]
  },
  {
   "cell_type": "code",
   "execution_count": 186,
   "id": "9db99fa8-19f9-4923-9ca2-858d20b6768d",
   "metadata": {},
   "outputs": [
    {
     "name": "stdout",
     "output_type": "stream",
     "text": [
      "Filas del archivo con los valores recolectados por sensores: 784308\n",
      "Cantidad de sensores con datos:  289\n",
      "Cantidad de fechas de registros:  2880\n"
     ]
    }
   ],
   "source": [
    "\n",
    "\n",
    "# if len(sys.argv) != 2:\n",
    "#   print(\"Error! en la cantidad de argumentos.\")\n",
    "#   print(sys.argv[0], \"<sensordatafile.csv>\")\n",
    "#   sys.exit()\n",
    "\n",
    "\n",
    "# df = pd.read_csv(sys.argv[1], sep=';', quotechar='\"')\n",
    "df = pd.read_csv('11-2023_m30.csv', sep=';', quotechar='\"')\n",
    "# df = pd.read_csv('/home/carlos/ubuntu_transfer/temporal_series/sensores_madrid/data_magist/07-2023.csv', sep=';', quotechar='\"')\n",
    "filas = df.shape[0]\n",
    "#print(df.head())\n",
    "print(\"Filas del archivo con los valores recolectados por sensores:\",filas)\n",
    "diccSensores = {}\n",
    "diccFechas = {}\n",
    "for x in range(filas):\n",
    "    s = df['id'][x]\n",
    "    if s not in diccSensores:\n",
    "        diccSensores[s] = 1\n",
    "    else:\n",
    "        diccSensores[s] += 1\n",
    "    f = df['fecha'][x]\n",
    "    if f not in diccFechas:\n",
    "        diccFechas[f] = 1\n",
    "    else:\n",
    "        diccFechas[f] += 1\n",
    "\n",
    "IDsensores = list(diccSensores.keys())\n",
    "IDsensores.sort()\n",
    "fechas = list(diccFechas.keys())\n",
    "fechas.sort()\n",
    "cantSensores = len(IDsensores)\n",
    "cantFechas = len(fechas)\n",
    "print(\"Cantidad de sensores con datos: \", cantSensores)\n",
    "print(\"Cantidad de fechas de registros: \", cantFechas)\n",
    "\n",
    "posFechas = {}\n",
    "pos = 0\n",
    "for f in fechas:\n",
    "    posFechas[f] = pos\n",
    "    pos += 1\n",
    "\n",
    "posSensores = {}\n",
    "pos = 0\n",
    "for s in IDsensores:\n",
    "    posSensores[s] = pos\n",
    "    pos += 1"
   ]
  },
  {
   "cell_type": "raw",
   "id": "0704cf71-d60c-492f-8a7e-a6b1e0f48a0e",
   "metadata": {},
   "source": [
    "Mover datos a la grilla"
   ]
  },
  {
   "cell_type": "code",
   "execution_count": null,
   "id": "7395be46-b338-49c7-ad7d-9f6d606d9785",
   "metadata": {
    "scrolled": true
   },
   "outputs": [],
   "source": [
    "grillaIntensidad = np.zeros((cantSensores,cantFechas))\n",
    "grillaOcupacion = np.zeros((cantSensores,cantFechas))\n",
    "grillaCarga = np.zeros((cantSensores,cantFechas))\n",
    "grillaVelocidad = np.zeros((cantSensores,cantFechas))\n",
    "\n",
    "for x in range(filas):\n",
    "    s = df['id'][x]\n",
    "    f = df['fecha'][x]\n",
    "    ps = posSensores[s]\n",
    "    pf = posFechas[f]\n",
    "    \n",
    "    if not math.isnan(df['intensidad'][x]):\n",
    "        grillaIntensidad[ps][pf] = int(df['intensidad'][x])\n",
    "    \n",
    "    if not math.isnan(df['ocupacion'][x]):\n",
    "        grillaOcupacion[ps][pf] = int(df['ocupacion'][x])\n",
    "    \n",
    "    if not math.isnan(df['carga'][x]):\n",
    "        grillaCarga[ps][pf] = int(df['carga'][x])\n",
    "    \n",
    "    if not math.isnan(df['vmed'][x]):\n",
    "        grillaVelocidad[ps][pf] = int(df['vmed'][x])"
   ]
  },
  {
   "cell_type": "raw",
   "id": "a3314c7f-620f-4888-be23-f4dad8c95324",
   "metadata": {},
   "source": [
    "Cargar planilla con la información de ubicación de los sensores"
   ]
  },
  {
   "cell_type": "code",
   "execution_count": null,
   "id": "c7f059d0-3da4-4545-b8f6-632ef760759f",
   "metadata": {
    "scrolled": true
   },
   "outputs": [],
   "source": [
    "data = pd.read_csv('pmed_ubicacion_10-2023_M30.csv', sep=';', quotechar='\"')\n",
    "data_encabezados = [\"tipo_elem\",\"distrito\",\"id\",\"cod_cent\",\"nombre\",\"utm_x\",\"utm_y\",\"longitud\",\"latitud\"]\n",
    "cantSensoresInstalados = data.shape[0]\n",
    "print(\"Cantidad de sensores instalados en M30\",cantSensoresInstalados)\n",
    "\n",
    "print(\"\\t\\t--- Muestra de los datos ---\")\n",
    "for e in data_encabezados:\n",
    "    print(e, end=\"\\t\")\n",
    "print(\"\")\n",
    "for x in range(0,cantSensoresInstalados,10):\n",
    "    for e in data_encabezados:\n",
    "        print(data[e][x], end=\"\\t\")\n",
    "    print(\"\")"
   ]
  },
  {
   "cell_type": "code",
   "execution_count": null,
   "id": "9b01bb0a-2fe6-4276-a6c6-637568db69b0",
   "metadata": {
    "scrolled": true
   },
   "outputs": [],
   "source": [
    "print(\"Creando diccionario de id del sensor y su código: \")\n",
    "diccIdCod = {}\n",
    "for x in range(cantSensoresInstalados):\n",
    "    codS = str(data['cod_cent'][x])\n",
    "    idS = int(data['id'][x])\n",
    "    diccIdCod[idS] = codS\n",
    "for i in IDsensores:\n",
    "    print(i, diccIdCod[i])"
   ]
  },
  {
   "cell_type": "code",
   "execution_count": null,
   "id": "e1738776-e6c1-4279-978d-8ed2bccfa151",
   "metadata": {
    "scrolled": true
   },
   "outputs": [],
   "source": [
    "print(\"Exportando datos\")\n",
    "listPM1xxx1 = []\n",
    "listPM1xxxx = []\n",
    "listPM1xxx2 = []\n",
    "listPM2xxx1 = []\n",
    "listPM2xxx2 = []\n",
    "listPM2xxxx = []\n",
    "for i in IDsensores:\n",
    "    cod = diccIdCod[i]\n",
    "    if cod[2] == '1':\n",
    "        listPM1xxxx.append(i)\n",
    "        if cod[6] == '1':\n",
    "            listPM1xxx1.append(i)\n",
    "        elif cod[6] == '2':\n",
    "            listPM1xxx2.append(i)\n",
    "    elif cod[2] == '2':\n",
    "        listPM2xxxx.append(i)\n",
    "        if cod[6] == '1':\n",
    "            listPM2xxx1.append(i)\n",
    "        elif cod[6] == '2':\n",
    "            listPM2xxx2.append(i)\n",
    "print(\"listPM1xxxx tiene\", len(listPM1xxxx), \"sensores.\")\n",
    "print(\"listPM1xxx1 tiene\", len(listPM1xxx1), \"sensores.\")\n",
    "print(\"listPM1xxx2 tiene\", len(listPM1xxx2), \"sensores.\")\n",
    "print(\"listPM2xxxx tiene\", len(listPM2xxxx), \"sensores.\")\n",
    "print(\"listPM2xxx1 tiene\", len(listPM2xxx1), \"sensores.\")\n",
    "print(\"listPM2xxx2 tiene\", len(listPM2xxx2), \"sensores.\")"
   ]
  },
  {
   "cell_type": "raw",
   "id": "b82f5535-121a-4cb5-ba5a-620519b18a0e",
   "metadata": {},
   "source": [
    "Función para exportar el archivo de datos con los valores de los sensores"
   ]
  },
  {
   "cell_type": "code",
   "execution_count": null,
   "id": "f948e2ab-883c-40a5-af4a-3fc8a6bc4127",
   "metadata": {},
   "outputs": [],
   "source": [
    "def exportarArchivoDatos(lista, nombrearchivo):\n",
    "    datafile = open(nombrearchivo,\"w\")\n",
    "    datafile.write(str(len(lista))+\" \"+str(cantFechas)+\"\\n\")\n",
    "    for s in lista:\n",
    "        datafile.write(str(s)+\" \")\n",
    "    datafile.write(\"\\n\")\n",
    "    for s in lista:\n",
    "        pos = posSensores[s]\n",
    "        for c in range(len(fechas)):\n",
    "            datafile.write(str(int(grillaIntensidad[pos][c]))+\" \")\n",
    "        datafile.write(\"\\n\")\n",
    "        for c in range(len(fechas)):\n",
    "            datafile.write(str(int(grillaOcupacion[pos][c]))+\" \")\n",
    "        datafile.write(\"\\n\")\n",
    "        for c in range(len(fechas)):\n",
    "            datafile.write(str(int(grillaCarga[pos][c]))+\" \")\n",
    "        datafile.write(\"\\n\")\n",
    "        for c in range(len(fechas)):\n",
    "            datafile.write(str(int(grillaVelocidad[pos][c]))+\" \")\n",
    "        datafile.write(\"\\n\")\n",
    "    datafile.close()\n",
    "    print(\"Archivo\", nombrearchivo, \"escrito correctamente.\")\n"
   ]
  },
  {
   "cell_type": "code",
   "execution_count": null,
   "id": "0a35b27b-0076-42ad-b42b-434e4ab18c20",
   "metadata": {},
   "outputs": [],
   "source": [
    "print(\"Exportando los archivos de datos.\")\n",
    "\n",
    "print(\"Exportando PM1xxxx...\")\n",
    "exportarArchivoDatos(listPM1xxxx, \"data2/data_PM1xxxx.txt\")\n",
    "\n",
    "print(\"Exportando PM1xxx1...\")\n",
    "exportarArchivoDatos(listPM1xxx1, \"data2/data_PM1xxx1.txt\")\n",
    "\n",
    "print(\"Exportando PM1xxx2...\")\n",
    "exportarArchivoDatos(listPM1xxx2, \"data2/data_PM1xxx2.txt\")\n",
    "\n",
    "print(\"Exportando PM2xxxx...\")\n",
    "exportarArchivoDatos(listPM2xxxx, \"data2/data_PM2xxxx.txt\")\n",
    "\n",
    "print(\"Exportando PM2xxx1...\")\n",
    "exportarArchivoDatos(listPM2xxx1, \"data2/data_PM2xxx1.txt\")\n",
    "\n",
    "print(\"Exportando PM2xxx2...\")\n",
    "exportarArchivoDatos(listPM2xxx2, \"data2/data_PM2xxx2.txt\")\n",
    "\n",
    "print(\"Exportando PMxxxxx...\")\n",
    "exportarArchivoDatos(IDsensores, \"data2/data_PMxxxxx.txt\")\n"
   ]
  },
  {
   "cell_type": "code",
   "execution_count": null,
   "id": "08116f94-cdeb-4c1e-8876-1f0214d60971",
   "metadata": {},
   "outputs": [],
   "source": [
    "print(\"Creando diccionario de claves=codigo y valor=id para facilitar el filtrado por codigos al crear vecinos\")\n",
    "diccCodId = {}\n",
    "for id in IDsensores:\n",
    "    cod = diccIdCod[id]\n",
    "    diccCodId[cod] = id"
   ]
  },
  {
   "cell_type": "raw",
   "id": "3052f16a-dc2f-436b-af30-4eca435133b5",
   "metadata": {},
   "source": [
    "Función para exportar los archivos con la lista de vecindad de los sensores"
   ]
  },
  {
   "cell_type": "code",
   "execution_count": null,
   "id": "6471c8fd-89e8-4a52-9661-7d2376d15140",
   "metadata": {},
   "outputs": [],
   "source": [
    "# Se recibe un diccionario donde la clave es el id del sensor y el valor es la lista de vecinos.\n",
    "def exportarArchivoVecinos(diccVecinos, nombrearchivo):\n",
    "    neigborfile = open(nombrearchivo,\"w\")\n",
    "    neigborfile.write(str(len(diccVecinos))+\"\\n\")\n",
    "    for s in diccVecinos:\n",
    "        neigborfile.write(str(s)+\" \")\n",
    "    neigborfile.write(\"\\n\")\n",
    "    for s in diccVecinos:\n",
    "        neigborfile.write(str(s) + \" \")\n",
    "        vec = diccVecinos[s]\n",
    "        neigborfile.write(str(len(vec)))\n",
    "        for v in vec:\n",
    "            neigborfile.write(\" \" + str(v))\n",
    "        neigborfile.write(\"\\n\")\n",
    "    neigborfile.close()\n",
    "    print(\"Archivo\", nombrearchivo, \"escrito correctamente.\")"
   ]
  },
  {
   "cell_type": "code",
   "execution_count": null,
   "id": "578cf211-d94d-4781-8e81-1b45e5a10d06",
   "metadata": {
    "scrolled": true
   },
   "outputs": [],
   "source": [
    "print(\"Creando archivo de vecinos por código, donde son consecutivos los troncales y laterales según calzada.\")\n",
    "listCodPMxxxxx = []\n",
    "listCodPM1xxxx = []\n",
    "listCodPM1xxx1 = []\n",
    "listCodPM1xxx2 = []\n",
    "listCodPM2xxxx = []\n",
    "listCodPM2xxx1 = []\n",
    "listCodPM2xxx2 = []\n",
    "for cod in diccCodId:\n",
    "    if diccCodId[cod] in IDsensores:\n",
    "        listCodPMxxxxx.append(cod)\n",
    "        if cod[2] == '1':\n",
    "            listCodPM1xxxx.append(cod)\n",
    "            if cod[6] == '1':\n",
    "                listCodPM1xxx1.append(cod)\n",
    "            elif cod[6] == '2':\n",
    "                listCodPM1xxx2.append(cod)\n",
    "        elif cod[2] == '2':\n",
    "            listCodPM2xxxx.append(cod)\n",
    "            if cod[6] == '1':\n",
    "                listCodPM2xxx1.append(cod)\n",
    "            elif cod[6] == '2':\n",
    "                listCodPM2xxx2.append(cod)\n",
    "\n",
    "def generaVecinosConsecutivosDesdeListaCodigos(listaCodigos, filename):\n",
    "    listaCodigos.sort()\n",
    "    print(\"Lista de códigos de sensores ordenados:\", listaCodigos)\n",
    "    diccVecinos = {}\n",
    "    for i in range(len(listaCodigos)):\n",
    "        id0 = diccCodId[listaCodigos[i]]\n",
    "        id1 = diccCodId[listaCodigos[i-1]]\n",
    "        diccVecinos[id0] = [id1]\n",
    "    exportarArchivoVecinos(diccVecinos, filename)\n",
    "    \n",
    "generaVecinosConsecutivosDesdeListaCodigos(listCodPMxxxxx, \"data2/vecinos_PMxxxxx.txt\")\n",
    "generaVecinosConsecutivosDesdeListaCodigos(listCodPM1xxxx, \"data2/vecinos_PM1xxxx.txt\")\n",
    "generaVecinosConsecutivosDesdeListaCodigos(listCodPM1xxx1, \"data2/vecinos_PM1xxx1.txt\")\n",
    "generaVecinosConsecutivosDesdeListaCodigos(listCodPM1xxx2, \"data2/vecinos_PM1xxx2.txt\")\n",
    "generaVecinosConsecutivosDesdeListaCodigos(listCodPM2xxxx, \"data2/vecinos_PM2xxxx.txt\")\n",
    "generaVecinosConsecutivosDesdeListaCodigos(listCodPM2xxx1, \"data2/vecinos_PM2xxx1.txt\")\n",
    "generaVecinosConsecutivosDesdeListaCodigos(listCodPM2xxx2, \"data2/vecinos_PM2xxx2.txt\")"
   ]
  },
  {
   "cell_type": "raw",
   "id": "cd27c1dd-1af4-41f7-ac08-66dc269e28f0",
   "metadata": {},
   "source": [
    "Generando matriz de distancias para obtener vecinos por cercanía    "
   ]
  },
  {
   "cell_type": "code",
   "execution_count": null,
   "id": "09db7e3d-9fc7-4eef-bd42-28964e0418ec",
   "metadata": {
    "scrolled": true
   },
   "outputs": [],
   "source": [
    "diccIDcoord = {}\n",
    "for x in range(cantSensoresInstalados):\n",
    "    idsensor = data['id'][x]\n",
    "    coord = (data['latitud'][x],data['longitud'][x])\n",
    "    diccIDcoord[idsensor] = coord\n",
    "\n",
    "matrizDistancia = np.zeros((cantSensores, cantSensores))\n",
    "for x in range(cantSensores):\n",
    "    cooX = diccIDcoord[IDsensores[x]]\n",
    "    for y in range(x):\n",
    "        cooY = diccIDcoord[IDsensores[y]]\n",
    "        dKm = distance.distance(cooX, cooY).km\n",
    "        matrizDistancia[x][y] = dKm\n",
    "        matrizDistancia[y][x] = dKm"
   ]
  },
  {
   "cell_type": "raw",
   "id": "c24e8d43-f7ef-40a8-83e7-90638aa9510c",
   "metadata": {},
   "source": [
    "Generando diccionario de vecinos según distancia"
   ]
  },
  {
   "cell_type": "code",
   "execution_count": null,
   "id": "4ca64899-4351-4b3c-9169-fde49a3264d3",
   "metadata": {},
   "outputs": [],
   "source": [
    "diccVec500m = {}\n",
    "diccVec250m = {}\n",
    "diccVec200m = {}\n",
    "diccVec150m = {}\n",
    "diccVec100m = {}\n",
    "diccVec050m = {}\n",
    "diccVec025m = {}\n",
    "\n",
    "def generaVecinosPorDistancia(diccionario, distancia, filename):\n",
    "    for x in range(cantSensores):\n",
    "        for y in range(cantSensores):\n",
    "            if matrizDistancia[x][y] > 0 and matrizDistancia[x][y] <= distancia:\n",
    "                idX = IDsensores[x]\n",
    "                idY = IDsensores[y]\n",
    "                if idX in diccionario:\n",
    "                    diccionario[idX].append(idY)\n",
    "                else:\n",
    "                    diccionario[idX] = [idY]\n",
    "    print(\"Sensores con vecinos a los\", distancia, \"km:\", len(diccionario))\n",
    "    exportarArchivoVecinos(diccionario, filename)\n",
    "\n",
    "generaVecinosPorDistancia(diccVec500m, 0.500, \"data2/vecinos_dist_500m\")\n",
    "generaVecinosPorDistancia(diccVec250m, 0.250, \"data2/vecinos_dist_250m\")\n",
    "generaVecinosPorDistancia(diccVec200m, 0.200, \"data2/vecinos_dist_200m\")\n",
    "generaVecinosPorDistancia(diccVec150m, 0.150, \"data2/vecinos_dist_150m\")\n",
    "generaVecinosPorDistancia(diccVec100m, 0.100, \"data2/vecinos_dist_100m\")\n",
    "generaVecinosPorDistancia(diccVec050m, 0.050, \"data2/vecinos_dist_050m\")\n",
    "generaVecinosPorDistancia(diccVec025m, 0.025, \"data2/vecinos_dist_025m\")"
   ]
  },
  {
   "cell_type": "code",
   "execution_count": null,
   "id": "2cfbe337-fa26-4622-a0ac-2ec0ff416670",
   "metadata": {},
   "outputs": [],
   "source": [
    "posQ = 200\n",
    "ids = IDsensores[posQ]\n",
    "print(\"sensor:\", ids, diccVec025m[ids])\n",
    "for x in diccVec025m[ids]:\n",
    "    print(x, diccVec025m[x])\n",
    "print(\" \")\n",
    "\n",
    "ids = diccCodId['PM20721']\n",
    "cods = diccIdCod[ids]\n",
    "print(\"sensor:\", cods, diccVec150m[ids], \"150 metros\")\n",
    "for x in diccVec150m[ids]:\n",
    "    print(diccIdCod[x], diccVec150m[x])\n",
    "\n",
    "ids = diccCodId['PM20721']\n",
    "cods = diccIdCod[ids]\n",
    "print(\"sensor:\", cods, diccVec250m[ids], \"250 metros\")\n",
    "for x in diccVec250m[ids]:\n",
    "    print(diccIdCod[x], diccVec250m[x])"
   ]
  },
  {
   "cell_type": "code",
   "execution_count": null,
   "id": "b32f2b72-0752-43b6-84b6-4e1c8b6e7417",
   "metadata": {},
   "outputs": [],
   "source": [
    "ids = 6775\n",
    "print(ids in IDsensores)\n",
    "print(ids in diccVec050m)\n",
    "print(diccIdCod[ids])"
   ]
  },
  {
   "cell_type": "raw",
   "id": "f8d271ad-2c88-4657-b8c7-d0fc51e23b56",
   "metadata": {},
   "source": [
    "Archivo de vecinos por código donde se relacionan:\n",
    "- Troncales con sus respectivos laterales y otros\n",
    "- Laterales con sus otros\n",
    "- Troncales con Troncal siguiente y Lateral siguiente\n",
    "- Laterales con Troncal siguiente y Lateral siguiente"
   ]
  },
  {
   "cell_type": "code",
   "execution_count": null,
   "id": "fd89691b-294e-4d3c-bdf6-c9283b924904",
   "metadata": {},
   "outputs": [],
   "source": [
    "diccVecinosPM12 = {}\n",
    "for i in range(len(listCodPM1xxx1)):\n",
    "    codI = listCodPM1xxx1[i]\n",
    "    idI = diccCodId[codI]\n",
    "    codVecinos = []\n",
    "    # Se relaciona con su lateral\n",
    "    codaux = codI[:6]+'2'\n",
    "    if codaux in listCodPM1xxx2:\n",
    "        codVecinos.append(codaux)\n",
    "    # Se relaciona con el troncal anterior\n",
    "    codaux = listCodPM1xxx1[i-1]\n",
    "    codVecinos.append(codaux)\n",
    "    # Se relaciona con el lateral anterior\n",
    "    codaux = codaux[:6]+'2'\n",
    "    if codaux in listCodPM1xxx2:\n",
    "        codVecinos.append(codaux)\n",
    "    # Se generan los IDs a partir de los códigos incluidos\n",
    "    idsVecino = []\n",
    "    for c in codVecinos:\n",
    "        idsVecino.append(diccCodId[c])\n",
    "    diccVecinosPM12[idI] = idsVecino\n",
    "for i in range(len(listCodPM2xxx1)):\n",
    "    codI = listCodPM2xxx1[i]\n",
    "    idI = diccCodId[codI]\n",
    "    codVecinos = []\n",
    "    # Se relaciona con su lateral\n",
    "    codaux = codI[:6]+'2'\n",
    "    if codaux in listCodPM2xxx2:\n",
    "        codVecinos.append(codaux)\n",
    "    # Se relaciona con el troncal anterior\n",
    "    codaux = listCodPM2xxx1[i-1]\n",
    "    codVecinos.append(codaux)\n",
    "    # Se relaciona con el lateral anterior\n",
    "    codaux = codaux[:6]+'2'\n",
    "    if codaux in listCodPM2xxx2:\n",
    "        codVecinos.append(codaux)\n",
    "    # Se generan los IDs a partir de los códigos incluidos\n",
    "    idsVecino = []\n",
    "    for c in codVecinos:\n",
    "        idsVecino.append(diccCodId[c])\n",
    "    diccVecinosPM12[idI] = idsVecino\n",
    "exportarArchivoVecinos(diccVecinosPM12, \"data2/vecinos_PM12x12.txt\")"
   ]
  },
  {
   "cell_type": "code",
   "execution_count": null,
   "id": "b39f4d70-9ec4-4e85-949e-cca6bb475644",
   "metadata": {},
   "outputs": [],
   "source": [
    "diccVecinosPM12 = {}\n",
    "for i in range(len(listCodPM1xxx1)):\n",
    "    codI = listCodPM1xxx1[i]\n",
    "    idI = diccCodId[codI]\n",
    "    codVecinos = []\n",
    "    # Se relaciona con su lateral\n",
    "    codaux = codI[:6]+'2'\n",
    "    if codaux in listCodPM1xxx2:\n",
    "        codVecinos.append(codaux)\n",
    "        idAux = diccCodId[codaux]\n",
    "        diccVecinosPM12[idAux] = [idI]\n",
    "    # Se relaciona con el troncal anterior\n",
    "    codaux = listCodPM1xxx1[i-1]\n",
    "    codVecinos.append(codaux)\n",
    "    # Se relaciona con el lateral anterior\n",
    "    codaux = codaux[:6]+'2'\n",
    "    if codaux in listCodPM1xxx2:\n",
    "        codVecinos.append(codaux)\n",
    "    # Se generan los IDs a partir de los códigos incluidos\n",
    "    idsVecino = []\n",
    "    for c in codVecinos:\n",
    "        idsVecino.append(diccCodId[c])\n",
    "    diccVecinosPM12[idI] = idsVecino\n",
    "for i in range(len(listCodPM2xxx1)):\n",
    "    codI = listCodPM2xxx1[i]\n",
    "    idI = diccCodId[codI]\n",
    "    codVecinos = []\n",
    "    # Se relaciona con su lateral\n",
    "    codaux = codI[:6]+'2'\n",
    "    if codaux in listCodPM2xxx2:\n",
    "        codVecinos.append(codaux)\n",
    "        idAux = diccCodId[codaux]\n",
    "        diccVecinosPM12[idAux] = [idI]\n",
    "    # Se relaciona con el troncal anterior\n",
    "    codaux = listCodPM2xxx1[i-1]\n",
    "    codVecinos.append(codaux)\n",
    "    # Se relaciona con el lateral anterior\n",
    "    codaux = codaux[:6]+'2'\n",
    "    if codaux in listCodPM2xxx2:\n",
    "        codVecinos.append(codaux)\n",
    "    # Se generan los IDs a partir de los códigos incluidos\n",
    "    idsVecino = []\n",
    "    for c in codVecinos:\n",
    "        idsVecino.append(diccCodId[c])\n",
    "    diccVecinosPM12[idI] = idsVecino\n",
    "exportarArchivoVecinos(diccVecinosPM12, \"data2/vecinos_PM12x12_v2.txt\")"
   ]
  },
  {
   "cell_type": "raw",
   "id": "41339604-325e-44b9-90e0-6919bb2c1b90",
   "metadata": {},
   "source": [
    "Archivo con relaciones aleatorias entre los sensores"
   ]
  },
  {
   "cell_type": "code",
   "execution_count": null,
   "id": "7558d3a7-f4d1-4c94-83c5-64938af75219",
   "metadata": {},
   "outputs": [],
   "source": [
    "print(\"Creando archivo de vecinos aleatorios.\")\n",
    "listCodigosCand = []\n",
    "for cod in diccCodId:\n",
    "    if diccCodId[cod] in IDsensores:\n",
    "        if (cod[2] == '1' or cod[2] == '2') and (cod[6] == '1' or cod[6] == '2'):\n",
    "            listCodigosCand.append(cod)\n",
    "diccVecinosAleatorio = {}\n",
    "for i in range(len(listCodigosCand)):\n",
    "    numV = random.randint(1,3)\n",
    "    counter = 0\n",
    "    vecinos = []\n",
    "    while counter < numV:\n",
    "        randV = random.randint(0,len(listCodigosCand)-1)\n",
    "        if randV != i and listCodigosCand[randV] not in vecinos:\n",
    "            vecinos.append(listCodigosCand[randV])\n",
    "            counter += 1\n",
    "    codI = listCodigosCand[i]\n",
    "    idI = diccCodId[codI]\n",
    "    idsVecinos = []\n",
    "    for v in vecinos:\n",
    "        idsVecinos.append(diccCodId[v])\n",
    "    diccVecinosAleatorio[idI] = idsVecinos\n",
    "exportarArchivoVecinos(diccVecinosAleatorio, \"data2/vecinos_PMrandom.txt\")"
   ]
  },
  {
   "cell_type": "raw",
   "id": "d327c266-0b07-4f77-9c98-e6b3f5ddfa83",
   "metadata": {},
   "source": [
    "Creando lista de archivos con relaciones consecutivas de manera integrada\n",
    "- Troncales con troncales\n",
    "- Laterales con laterales"
   ]
  },
  {
   "cell_type": "code",
   "execution_count": null,
   "id": "6bc31c8e-09a4-49ba-88f6-b550e86e1dac",
   "metadata": {},
   "outputs": [],
   "source": [
    "listaCodsTTLL = [listCodPM1xxx1, listCodPM1xxx2, listCodPM2xxx1, listCodPM2xxx2]\n",
    "diccVecinos = {}\n",
    "for liCo in listaCodsTTLL:\n",
    "    for i in range(len(liCo)):\n",
    "        id0 = diccCodId[liCo[i]]\n",
    "        id1 = diccCodId[liCo[i-1]]\n",
    "        diccVecinos[id0] = [id1]\n",
    "exportarArchivoVecinos(diccVecinos, \"data2/vecinos_PM-TT-LL.txt\")"
   ]
  },
  {
   "cell_type": "code",
   "execution_count": null,
   "id": "e762f977-7f8f-4604-a115-ee0c9dd961ec",
   "metadata": {
    "scrolled": true
   },
   "outputs": [],
   "source": []
  },
  {
   "cell_type": "code",
   "execution_count": null,
   "id": "919ab30c-fc65-4bf7-9c64-f4169a3272eb",
   "metadata": {},
   "outputs": [],
   "source": []
  }
 ],
 "metadata": {
  "kernelspec": {
   "display_name": "Python 3 (ipykernel)",
   "language": "python",
   "name": "python3"
  },
  "language_info": {
   "codemirror_mode": {
    "name": "ipython",
    "version": 3
   },
   "file_extension": ".py",
   "mimetype": "text/x-python",
   "name": "python",
   "nbconvert_exporter": "python",
   "pygments_lexer": "ipython3",
   "version": "3.12.3"
  }
 },
 "nbformat": 4,
 "nbformat_minor": 5
}
