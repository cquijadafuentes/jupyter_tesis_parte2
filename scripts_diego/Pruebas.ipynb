{
 "cells": [
  {
   "cell_type": "code",
   "execution_count": 10,
   "id": "9f21ef13-eae8-454a-8029-5e8f4fa56425",
   "metadata": {},
   "outputs": [
    {
     "name": "stdout",
     "output_type": "stream",
     "text": [
      "[[ 1.  2.  3.  4.]\n",
      " [ 5.  6.  7.  8.]\n",
      " [ 9. 10. 11. 12.]]\n",
      "[1. 1. 1. 1.]\n"
     ]
    }
   ],
   "source": [
    "import numpy as np\n",
    "\n",
    "varios = np.zeros((3,4))\n",
    "uno = np.ones(4)\n",
    "incremento = 1\n",
    "for i in varios:\n",
    "    for j in range(len(i)):\n",
    "        i[j] = incremento\n",
    "        incremento += 1\n",
    "print(varios)\n",
    "print(uno)"
   ]
  },
  {
   "cell_type": "code",
   "execution_count": 15,
   "id": "df22230b-5176-43dd-8983-577176549842",
   "metadata": {},
   "outputs": [
    {
     "name": "stdout",
     "output_type": "stream",
     "text": [
      "[[ 2.  3.  4.  5.]\n",
      " [ 6.  7.  8.  9.]\n",
      " [10. 11. 12. 13.]]\n"
     ]
    }
   ],
   "source": [
    "varios2 = varios + uno\n",
    "print(varios2)"
   ]
  },
  {
   "cell_type": "code",
   "execution_count": 16,
   "id": "502ef3bd-4294-463f-993f-f7b4483167a6",
   "metadata": {},
   "outputs": [
    {
     "name": "stdout",
     "output_type": "stream",
     "text": [
      "[[ 1.  2.  3.  4.]\n",
      " [ 5.  6.  7.  8.]\n",
      " [ 9. 10. 11. 12.]]\n"
     ]
    }
   ],
   "source": [
    "varios2 -= uno\n",
    "print(varios2)"
   ]
  },
  {
   "cell_type": "code",
   "execution_count": null,
   "id": "db47a6aa-9409-4609-bd93-6dbc9530d98a",
   "metadata": {},
   "outputs": [],
   "source": []
  }
 ],
 "metadata": {
  "kernelspec": {
   "display_name": "Python 3 (ipykernel)",
   "language": "python",
   "name": "python3"
  },
  "language_info": {
   "codemirror_mode": {
    "name": "ipython",
    "version": 3
   },
   "file_extension": ".py",
   "mimetype": "text/x-python",
   "name": "python",
   "nbconvert_exporter": "python",
   "pygments_lexer": "ipython3",
   "version": "3.12.3"
  }
 },
 "nbformat": 4,
 "nbformat_minor": 5
}
