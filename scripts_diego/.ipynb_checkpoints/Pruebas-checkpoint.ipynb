{
 "cells": [
  {
   "cell_type": "code",
   "execution_count": 1,
   "id": "9f21ef13-eae8-454a-8029-5e8f4fa56425",
   "metadata": {},
   "outputs": [],
   "source": [
    "import numpy as np\n",
    "\n",
    "varios = np.zeros((3,4))\n",
    "uno = np.ones(4)\n",
    "incremento = 1\n",
    "for i in varios:\n",
    "    for j in range(len(i)):\n",
    "        i[j] = incremento\n",
    "        incremento += 1\n",
    "print(varios)"
   ]
  },
  {
   "cell_type": "code",
   "execution_count": 2,
   "id": "00356c5e-a5e5-4061-8c34-f310d3aaa66f",
   "metadata": {},
   "outputs": [
    {
     "name": "stdout",
     "output_type": "stream",
     "text": [
      "[[0. 0. 0. 0.]\n",
      " [0. 0. 0. 0.]\n",
      " [0. 0. 0. 0.]]\n",
      "[1. 1. 1. 1.]\n"
     ]
    }
   ],
   "source": [
    "print(varios)\n",
    "print(uno)"
   ]
  },
  {
   "cell_type": "code",
   "execution_count": 3,
   "id": "df22230b-5176-43dd-8983-577176549842",
   "metadata": {},
   "outputs": [
    {
     "name": "stdout",
     "output_type": "stream",
     "text": [
      "[[1. 1. 1. 1.]\n",
      " [1. 1. 1. 1.]\n",
      " [1. 1. 1. 1.]]\n"
     ]
    }
   ],
   "source": [
    "varios2 = varios + uno\n",
    "print(varios2)"
   ]
  },
  {
   "cell_type": "code",
   "execution_count": 5,
   "id": "502ef3bd-4294-463f-993f-f7b4483167a6",
   "metadata": {},
   "outputs": [
    {
     "name": "stdout",
     "output_type": "stream",
     "text": [
      "[[ 1.  2.  3.  4.]\n",
      " [ 5.  6.  7.  8.]\n",
      " [ 9. 10. 11. 12.]]\n"
     ]
    }
   ],
   "source": []
  },
  {
   "cell_type": "code",
   "execution_count": null,
   "id": "0ccf6129-ec91-415d-9828-7e2f9c238411",
   "metadata": {},
   "outputs": [],
   "source": [
    "varios2 "
   ]
  }
 ],
 "metadata": {
  "kernelspec": {
   "display_name": "Python 3 (ipykernel)",
   "language": "python",
   "name": "python3"
  },
  "language_info": {
   "codemirror_mode": {
    "name": "ipython",
    "version": 3
   },
   "file_extension": ".py",
   "mimetype": "text/x-python",
   "name": "python",
   "nbconvert_exporter": "python",
   "pygments_lexer": "ipython3",
   "version": "3.12.3"
  }
 },
 "nbformat": 4,
 "nbformat_minor": 5
}
