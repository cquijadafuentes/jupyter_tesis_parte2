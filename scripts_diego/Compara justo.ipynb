{
 "cells": [
  {
   "cell_type": "code",
   "execution_count": 15,
   "id": "fb4771e2-522b-4a08-bcb9-e00e5e6972e3",
   "metadata": {},
   "outputs": [],
   "source": [
    "import zlib\n",
    "import numpy as np"
   ]
  },
  {
   "cell_type": "code",
   "execution_count": 16,
   "id": "ff7d25b7-6fe6-4b32-b682-b25928fcd12c",
   "metadata": {},
   "outputs": [],
   "source": [
    "def leer_archivo(nombre_archivo):\n",
    "    \"\"\"Lee el archivo y devuelve los datos estructurados\"\"\"\n",
    "    with open(nombre_archivo, 'r') as f:\n",
    "        lineas = f.readlines()\n",
    "    \n",
    "    n, m = map(int, lineas[0].split())\n",
    "    ids = lineas[1].strip().split()\n",
    "    datos = np.array([list(map(int, linea.strip().split())) for linea in lineas[2:2+n]])\n",
    "    \n",
    "    return n, m, ids, datos\n"
   ]
  },
  {
   "cell_type": "code",
   "execution_count": 17,
   "id": "01b3f210-efc4-4256-a050-57b5185f3bbe",
   "metadata": {},
   "outputs": [],
   "source": [
    "def codificar_alt1_sin_cuantizacion(datos):\n",
    "    \"\"\"Alternativa 1 pura sin cuantización\"\"\"\n",
    "    encoded = np.zeros_like(datos)\n",
    "    encoded[:, 0] = datos[:, 0]\n",
    "    for i in range(1, datos.shape[1]):\n",
    "        encoded[:, i] = datos[:, i] - datos[:, i-1]\n",
    "    return encoded"
   ]
  },
  {
   "cell_type": "code",
   "execution_count": 18,
   "id": "ebb04cd2-4884-446a-be1c-288ebb9871d2",
   "metadata": {},
   "outputs": [],
   "source": [
    "def codificar_hibrido_sin_cuantizacion(datos):\n",
    "    \"\"\"Híbrido sin cuantización, usando floats nativos\"\"\"\n",
    "    corr_matrix = np.corrcoef(datos)\n",
    "    ref_index = np.argmax(np.mean(corr_matrix, axis=1))\n",
    "    referencia = datos[ref_index]\n",
    "    \n",
    "    # Diferencias espaciales y temporales\n",
    "    dif_espacial = datos - referencia\n",
    "    deltas = np.diff(dif_espacial, axis=1, prepend=0)\n",
    "    return deltas\n"
   ]
  },
  {
   "cell_type": "code",
   "execution_count": 19,
   "id": "bfdb793d-a176-460a-a263-a9e4dbcef9d7",
   "metadata": {},
   "outputs": [],
   "source": [
    "def comprimir_justo(datos_codificados):\n",
    "    \"\"\"Compresión usando representación binaria nativa de floats (64 bits)\"\"\"\n",
    "    return zlib.compress(datos_codificados.tobytes())"
   ]
  },
  {
   "cell_type": "code",
   "execution_count": 22,
   "id": "195d274b-2cb8-4c1a-9b79-2811dba3eb06",
   "metadata": {},
   "outputs": [
    {
     "name": "stdout",
     "output_type": "stream",
     "text": [
      "Analizando [[ 190  156  912 ...  525  460  248]\n",
      " [ 196  205 1140 ...  740  588  356]\n",
      " [ 136  124  776 ...  572  424  260]\n",
      " ...\n",
      " [ 128  161  600 ...  268  316  212]\n",
      " [  32   36  252 ...  119  104   48]\n",
      " [  36   24  156 ...   32   64   48]]\n",
      "\n",
      "=== COMPARACIÓN JUSTA (sin cuantización) ===\n",
      "Alternativa 1: 15243347 bytes\n",
      "Híbrido: 17003950 bytes\n",
      "Diferencia: -1760603 bytes (-11.5% mejor)\n"
     ]
    }
   ],
   "source": [
    "filename = \"../procesa_archivos_2024/outputdata_m30_fulldates/archivos_articulo/m30_2024_data_fulldates_intensidad.txt\"\n",
    "n, m, ids, datos = leer_archivo(filename)\n",
    "\n",
    "print(\"Analizando\", datos)\n",
    "\n",
    "# Codificar\n",
    "alt1 = codificar_alt1_sin_cuantizacion(datos)\n",
    "hibrido = codificar_hibrido_sin_cuantizacion(datos)\n",
    "\n",
    "# Comprimir\n",
    "c_alt1 = len(comprimir_justo(alt1))\n",
    "c_hibrido = len(comprimir_justo(hibrido))\n",
    "\n",
    "# Resultados\n",
    "print(\"\\n=== COMPARACIÓN JUSTA (sin cuantización) ===\")\n",
    "print(f\"Alternativa 1: {c_alt1} bytes\")\n",
    "print(f\"Híbrido: {c_hibrido} bytes\")\n",
    "print(f\"Diferencia: {c_alt1 - c_hibrido} bytes ({((c_alt1 - c_hibrido)/c_alt1)*100:.1f}% mejor)\")"
   ]
  },
  {
   "cell_type": "code",
   "execution_count": 23,
   "id": "178033f3-6806-4d2c-a4c1-fa54bf803ac2",
   "metadata": {},
   "outputs": [
    {
     "name": "stderr",
     "output_type": "stream",
     "text": [
      "IOPub data rate exceeded.\n",
      "The Jupyter server will temporarily stop sending output\n",
      "to the client in order to avoid crashing it.\n",
      "To change this limit, set the config variable\n",
      "`--ServerApp.iopub_data_rate_limit`.\n",
      "\n",
      "Current values:\n",
      "ServerApp.iopub_data_rate_limit=1000000.0 (bytes/sec)\n",
      "ServerApp.rate_limit_window=3.0 (secs)\n",
      "\n"
     ]
    },
    {
     "ename": "TypeError",
     "evalue": "list indices must be integers or slices, not tuple",
     "output_type": "error",
     "traceback": [
      "\u001b[0;31m---------------------------------------------------------------------------\u001b[0m",
      "\u001b[0;31mTypeError\u001b[0m                                 Traceback (most recent call last)",
      "Cell \u001b[0;32mIn[23], line 19\u001b[0m\n\u001b[1;32m     16\u001b[0m \u001b[38;5;28mprint\u001b[39m(\u001b[38;5;124m\"\u001b[39m\u001b[38;5;124mDatos\u001b[39m\u001b[38;5;124m\"\u001b[39m, dataG)\n\u001b[1;32m     18\u001b[0m \u001b[38;5;66;03m# Codificar\u001b[39;00m\n\u001b[0;32m---> 19\u001b[0m alt1 \u001b[38;5;241m=\u001b[39m \u001b[43mcodificar_alt1_sin_cuantizacion\u001b[49m\u001b[43m(\u001b[49m\u001b[43mdataG\u001b[49m\u001b[43m)\u001b[49m\n\u001b[1;32m     20\u001b[0m hibrido \u001b[38;5;241m=\u001b[39m codificar_hibrido_sin_cuantizacion(dataG)\n\u001b[1;32m     22\u001b[0m \u001b[38;5;66;03m# Comprimir\u001b[39;00m\n",
      "Cell \u001b[0;32mIn[17], line 4\u001b[0m, in \u001b[0;36mcodificar_alt1_sin_cuantizacion\u001b[0;34m(datos)\u001b[0m\n\u001b[1;32m      2\u001b[0m \u001b[38;5;250m\u001b[39m\u001b[38;5;124;03m\"\"\"Alternativa 1 pura sin cuantización\"\"\"\u001b[39;00m\n\u001b[1;32m      3\u001b[0m encoded \u001b[38;5;241m=\u001b[39m np\u001b[38;5;241m.\u001b[39mzeros_like(datos)\n\u001b[0;32m----> 4\u001b[0m encoded[:, \u001b[38;5;241m0\u001b[39m] \u001b[38;5;241m=\u001b[39m \u001b[43mdatos\u001b[49m\u001b[43m[\u001b[49m\u001b[43m:\u001b[49m\u001b[43m,\u001b[49m\u001b[43m \u001b[49m\u001b[38;5;241;43m0\u001b[39;49m\u001b[43m]\u001b[49m\n\u001b[1;32m      5\u001b[0m \u001b[38;5;28;01mfor\u001b[39;00m i \u001b[38;5;129;01min\u001b[39;00m \u001b[38;5;28mrange\u001b[39m(\u001b[38;5;241m1\u001b[39m, datos\u001b[38;5;241m.\u001b[39mshape[\u001b[38;5;241m1\u001b[39m]):\n\u001b[1;32m      6\u001b[0m     encoded[:, i] \u001b[38;5;241m=\u001b[39m datos[:, i] \u001b[38;5;241m-\u001b[39m datos[:, i\u001b[38;5;241m-\u001b[39m\u001b[38;5;241m1\u001b[39m]\n",
      "\u001b[0;31mTypeError\u001b[0m: list indices must be integers or slices, not tuple"
     ]
    }
   ],
   "source": [
    "filenameGroups = \"../procesa_archivos_2024/outputdata_m30_fulldates/archivos_articulo/m30_2024_ids_estructura_intensidad.txt\"\n",
    "with open(filenameGroups, 'r') as f:\n",
    "    lineas = f.readlines()\n",
    "gs = list(map(int, lineas[0].split()))\n",
    "p = 1\n",
    "for g in gs:\n",
    "    idsG = lineas[p].split()\n",
    "    dataG = np.zeros((g, m))\n",
    "    posG = 0\n",
    "    for idG in idsG:\n",
    "        indice = ids.index(idG)\n",
    "        dataG[posG] = datos[indice]\n",
    "    print(\"Analizando grupo\", p, \":\", idsG)\n",
    "    print(\"Datos\", dataG)\n",
    "    \n",
    "    # Codificar\n",
    "    alt1 = codificar_alt1_sin_cuantizacion(dataG)\n",
    "    hibrido = codificar_hibrido_sin_cuantizacion(dataG)\n",
    "    \n",
    "    # Comprimir\n",
    "    c_alt1 = len(comprimir_justo(alt1))\n",
    "    c_hibrido = len(comprimir_justo(hibrido))\n",
    "    \n",
    "    # Resultados\n",
    "    print(\"\\n=== COMPARACIÓN JUSTA (sin cuantización) ===\")\n",
    "    print(f\"Alternativa 1: {c_alt1} bytes\")\n",
    "    print(f\"Híbrido: {c_hibrido} bytes\")\n",
    "    print(f\"Diferencia: {c_alt1 - c_hibrido} bytes ({((c_alt1 - c_hibrido)/c_alt1)*100:.1f}% mejor)\")\n",
    "    \n",
    "    p += 1"
   ]
  },
  {
   "cell_type": "code",
   "execution_count": null,
   "id": "276d5339-0f81-42ae-b2c2-71455303a517",
   "metadata": {},
   "outputs": [],
   "source": []
  }
 ],
 "metadata": {
  "kernelspec": {
   "display_name": "Python 3 (ipykernel)",
   "language": "python",
   "name": "python3"
  },
  "language_info": {
   "codemirror_mode": {
    "name": "ipython",
    "version": 3
   },
   "file_extension": ".py",
   "mimetype": "text/x-python",
   "name": "python",
   "nbconvert_exporter": "python",
   "pygments_lexer": "ipython3",
   "version": "3.12.3"
  }
 },
 "nbformat": 4,
 "nbformat_minor": 5
}
