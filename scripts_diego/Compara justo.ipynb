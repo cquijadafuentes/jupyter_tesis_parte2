{
 "cells": [
  {
   "cell_type": "code",
   "execution_count": 1,
   "id": "fb4771e2-522b-4a08-bcb9-e00e5e6972e3",
   "metadata": {},
   "outputs": [],
   "source": [
    "import zlib\n",
    "import numpy as np"
   ]
  },
  {
   "cell_type": "code",
   "execution_count": 2,
   "id": "ff7d25b7-6fe6-4b32-b682-b25928fcd12c",
   "metadata": {},
   "outputs": [],
   "source": [
    "def leer_archivo(nombre_archivo):\n",
    "    with open(nombre_archivo, 'r') as f:\n",
    "        lineas = f.readlines()\n",
    "    n, m = map(int, lineas[0].split())\n",
    "    return np.array([list(map(float, linea.strip().split())) for linea in lineas[2:2+n]])\n"
   ]
  },
  {
   "cell_type": "code",
   "execution_count": 3,
   "id": "01b3f210-efc4-4256-a050-57b5185f3bbe",
   "metadata": {},
   "outputs": [],
   "source": [
    "def codificar_alt1_sin_cuantizacion(datos):\n",
    "    \"\"\"Alternativa 1 pura sin cuantización\"\"\"\n",
    "    encoded = np.zeros_like(datos)\n",
    "    encoded[:, 0] = datos[:, 0]\n",
    "    for i in range(1, datos.shape[1]):\n",
    "        encoded[:, i] = datos[:, i] - datos[:, i-1]\n",
    "    return encoded"
   ]
  },
  {
   "cell_type": "code",
   "execution_count": 4,
   "id": "ebb04cd2-4884-446a-be1c-288ebb9871d2",
   "metadata": {},
   "outputs": [],
   "source": [
    "def codificar_hibrido_sin_cuantizacion(datos):\n",
    "    \"\"\"Híbrido sin cuantización, usando floats nativos\"\"\"\n",
    "    corr_matrix = np.corrcoef(datos)\n",
    "    ref_index = np.argmax(np.mean(corr_matrix, axis=1))\n",
    "    referencia = datos[ref_index]\n",
    "    \n",
    "    # Diferencias espaciales y temporales\n",
    "    dif_espacial = datos - referencia\n",
    "    deltas = np.diff(dif_espacial, axis=1, prepend=0)\n",
    "    return deltas\n"
   ]
  },
  {
   "cell_type": "code",
   "execution_count": 5,
   "id": "bfdb793d-a176-460a-a263-a9e4dbcef9d7",
   "metadata": {},
   "outputs": [],
   "source": [
    "def comprimir_justo(datos_codificados):\n",
    "    \"\"\"Compresión usando representación binaria nativa de floats (64 bits)\"\"\"\n",
    "    return zlib.compress(datos_codificados.tobytes())"
   ]
  },
  {
   "cell_type": "code",
   "execution_count": 6,
   "id": "195d274b-2cb8-4c1a-9b79-2811dba3eb06",
   "metadata": {},
   "outputs": [
    {
     "name": "stdout",
     "output_type": "stream",
     "text": [
      "\n",
      "=== COMPARACIÓN JUSTA (sin cuantización) ===\n",
      "Alternativa 1: 15942248 bytes\n",
      "Híbrido: 17538460 bytes\n",
      "Diferencia: -1596212 bytes (-10.0% mejor)\n"
     ]
    }
   ],
   "source": [
    "filename = \"../procesa_archivos_2024/outputdata_m30_fulldates/archivos_articulo/m30_2024_data_fulldates_intensidad.txt\"\n",
    "datos = leer_archivo(filename)\n",
    "\n",
    "# Codificar\n",
    "alt1 = codificar_alt1_sin_cuantizacion(datos)\n",
    "hibrido = codificar_hibrido_sin_cuantizacion(datos)\n",
    "\n",
    "# Comprimir\n",
    "c_alt1 = len(comprimir_justo(alt1))\n",
    "c_hibrido = len(comprimir_justo(hibrido))\n",
    "\n",
    "# Resultados\n",
    "print(\"\\n=== COMPARACIÓN JUSTA (sin cuantización) ===\")\n",
    "print(f\"Alternativa 1: {c_alt1} bytes\")\n",
    "print(f\"Híbrido: {c_hibrido} bytes\")\n",
    "print(f\"Diferencia: {c_alt1 - c_hibrido} bytes ({((c_alt1 - c_hibrido)/c_alt1)*100:.1f}% mejor)\")"
   ]
  },
  {
   "cell_type": "code",
   "execution_count": null,
   "id": "178033f3-6806-4d2c-a4c1-fa54bf803ac2",
   "metadata": {},
   "outputs": [],
   "source": [
    "filenameGroups = \"../procesa_archivos_2024/outputdata_m30_fulldates/archivos_articulo/m30_2024_ids_estructura_intensidad.txt\"\n",
    "with open(filenameGroups, 'r') as f:\n",
    "    lineas = f.readlines()\n",
    "gs = list(map(int, lineas[0].split()))\n",
    "p = 1\n",
    "for g in gs:\n",
    "    idsG = lineas[p].split()\n",
    "    dataG = []\n",
    "    for idG in idsG:\n",
    "        indice = ids.index(idG)\n",
    "        serie = []\n",
    "        for x in datos[indice]:\n",
    "            serie.append(x)\n",
    "        dataG.append(serie)\n",
    "    print(\"Analizando grupo\", p, \":\", idsG)\n",
    "    \n",
    "    # Codificar\n",
    "    alt1 = codificar_alt1_sin_cuantizacion(dataG)\n",
    "    hibrido = codificar_hibrido_sin_cuantizacion(dataG)\n",
    "    \n",
    "    # Comprimir\n",
    "    c_alt1 = len(comprimir_justo(alt1))\n",
    "    c_hibrido = len(comprimir_justo(hibrido))\n",
    "    \n",
    "    # Resultados\n",
    "    print(\"\\n=== COMPARACIÓN JUSTA (sin cuantización) ===\")\n",
    "    print(f\"Alternativa 1: {c_alt1} bytes\")\n",
    "    print(f\"Híbrido: {c_hibrido} bytes\")\n",
    "    print(f\"Diferencia: {c_alt1 - c_hibrido} bytes ({((c_alt1 - c_hibrido)/c_alt1)*100:.1f}% mejor)\")\n",
    "    \n",
    "    p += 1"
   ]
  },
  {
   "cell_type": "code",
   "execution_count": null,
   "id": "276d5339-0f81-42ae-b2c2-71455303a517",
   "metadata": {},
   "outputs": [],
   "source": []
  }
 ],
 "metadata": {
  "kernelspec": {
   "display_name": "Python 3 (ipykernel)",
   "language": "python",
   "name": "python3"
  },
  "language_info": {
   "codemirror_mode": {
    "name": "ipython",
    "version": 3
   },
   "file_extension": ".py",
   "mimetype": "text/x-python",
   "name": "python",
   "nbconvert_exporter": "python",
   "pygments_lexer": "ipython3",
   "version": "3.12.3"
  }
 },
 "nbformat": 4,
 "nbformat_minor": 5
}
