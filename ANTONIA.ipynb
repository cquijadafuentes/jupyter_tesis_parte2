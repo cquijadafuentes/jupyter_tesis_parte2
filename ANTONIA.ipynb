{
 "cells": [
  {
   "cell_type": "code",
   "execution_count": 49,
   "id": "b7d33b5e-9eb3-47fe-9af0-8fe24d8c913d",
   "metadata": {},
   "outputs": [
    {
     "name": "stdout",
     "output_type": "stream",
     "text": [
      "hola ¿como estas?\n"
     ]
    }
   ],
   "source": [
    "print(\"hola ¿como estas?\")"
   ]
  },
  {
   "cell_type": "code",
   "execution_count": 50,
   "id": "59568c34-4413-4e3b-ada6-a038672e7635",
   "metadata": {},
   "outputs": [
    {
     "name": "stdout",
     "output_type": "stream",
     "text": [
      "bien\n"
     ]
    }
   ],
   "source": [
    "print('bien')"
   ]
  },
  {
   "cell_type": "code",
   "execution_count": null,
   "id": "5179ad1e-e5e5-4ebd-a296-3f8c95b1be57",
   "metadata": {},
   "outputs": [],
   "source": []
  },
  {
   "cell_type": "code",
   "execution_count": 51,
   "id": "7881c58b-eba5-43ae-96aa-7276d03c45e0",
   "metadata": {},
   "outputs": [
    {
     "name": "stdout",
     "output_type": "stream",
     "text": [
      "antonia\n"
     ]
    }
   ],
   "source": [
    "x=\"antonia\"\n",
    "print(x)"
   ]
  },
  {
   "cell_type": "code",
   "execution_count": 52,
   "id": "72555d9e-00d0-4d0b-b65f-1c7a53890996",
   "metadata": {},
   "outputs": [
    {
     "name": "stdout",
     "output_type": "stream",
     "text": [
      "Quijada\n"
     ]
    }
   ],
   "source": [
    "z=\"Quijada\"\n",
    "print(z)"
   ]
  },
  {
   "cell_type": "code",
   "execution_count": 53,
   "id": "9ff30f00-4199-4e17-bbcc-7edaef624fbb",
   "metadata": {},
   "outputs": [
    {
     "name": "stdout",
     "output_type": "stream",
     "text": [
      "antonia Quijada\n"
     ]
    }
   ],
   "source": [
    "print (x+\" \"+z)"
   ]
  },
  {
   "cell_type": "code",
   "execution_count": 54,
   "id": "43e3bb6f-0dab-45f7-8bf9-204f0f1ed1d6",
   "metadata": {},
   "outputs": [
    {
     "name": "stdout",
     "output_type": "stream",
     "text": [
      "antonia Quijada\n"
     ]
    }
   ],
   "source": [
    "print (x,z)"
   ]
  },
  {
   "cell_type": "code",
   "execution_count": 55,
   "id": "3cd60516-765a-4b83-b259-624c9e97e364",
   "metadata": {},
   "outputs": [
    {
     "name": "stdout",
     "output_type": "stream",
     "text": [
      "5\n"
     ]
    }
   ],
   "source": [
    "a= 2\n",
    "b= 3\n",
    "print (a + b)\n"
   ]
  },
  {
   "cell_type": "code",
   "execution_count": 56,
   "id": "a0fbdc31-a82c-44c5-9b93-d9457ef3633d",
   "metadata": {},
   "outputs": [
    {
     "name": "stdout",
     "output_type": "stream",
     "text": [
      "avena 4\n"
     ]
    }
   ],
   "source": [
    "e=\"avena\"\n",
    "r= 4\n",
    "print (e,r)"
   ]
  },
  {
   "cell_type": "code",
   "execution_count": 57,
   "id": "b8c6c1c2-22ee-4f72-9036-06854a5285f9",
   "metadata": {
    "scrolled": true
   },
   "outputs": [
    {
     "name": "stdout",
     "output_type": "stream",
     "text": [
      "cosita 4\n"
     ]
    }
   ],
   "source": [
    "t=\"cosita\"\n",
    "y=1 \n",
    "print (t,r)"
   ]
  },
  {
   "cell_type": "code",
   "execution_count": 58,
   "id": "cba08162-a930-46bd-9061-957339400c41",
   "metadata": {},
   "outputs": [
    {
     "name": "stdout",
     "output_type": "stream",
     "text": [
      "5\n"
     ]
    }
   ],
   "source": [
    "print ( r + y )"
   ]
  },
  {
   "cell_type": "code",
   "execution_count": 59,
   "id": "c98968a1-a990-4ed5-bb56-e767ac72011c",
   "metadata": {},
   "outputs": [
    {
     "name": "stdout",
     "output_type": "stream",
     "text": [
      "5\n"
     ]
    }
   ],
   "source": [
    "print ( r + y )"
   ]
  },
  {
   "cell_type": "code",
   "execution_count": 60,
   "id": "2c1c01ae-7210-47c0-9d86-2319ac6ab47a",
   "metadata": {},
   "outputs": [
    {
     "name": "stdout",
     "output_type": "stream",
     "text": [
      "5\n"
     ]
    }
   ],
   "source": [
    "print ( r + y )"
   ]
  },
  {
   "cell_type": "code",
   "execution_count": null,
   "id": "7b668019-68e9-4303-acb6-ca8601b26925",
   "metadata": {},
   "outputs": [],
   "source": []
  }
 ],
 "metadata": {
  "kernelspec": {
   "display_name": "Python 3 (ipykernel)",
   "language": "python",
   "name": "python3"
  },
  "language_info": {
   "codemirror_mode": {
    "name": "ipython",
    "version": 3
   },
   "file_extension": ".py",
   "mimetype": "text/x-python",
   "name": "python",
   "nbconvert_exporter": "python",
   "pygments_lexer": "ipython3",
   "version": "3.12.3"
  }
 },
 "nbformat": 4,
 "nbformat_minor": 5
}
